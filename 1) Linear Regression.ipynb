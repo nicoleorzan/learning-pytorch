{
 "cells": [
  {
   "cell_type": "code",
   "execution_count": 1,
   "metadata": {},
   "outputs": [],
   "source": [
    "import torch\n",
    "import numpy as np"
   ]
  },
  {
   "cell_type": "code",
   "execution_count": 2,
   "metadata": {},
   "outputs": [],
   "source": [
    "# Input (temp, rainfall, humidity)\n",
    "inputs = np.array([[73, 67, 43], \n",
    "                   [91, 88, 64], \n",
    "                   [87, 134, 58], \n",
    "                   [102, 43, 37], \n",
    "                   [69, 96, 70]], dtype='float32')\n",
    "\n",
    "# Targets (apples, oranges)\n",
    "targets = np.array([[56, 70], \n",
    "                    [81, 101], \n",
    "                    [119, 133], \n",
    "                    [22, 37], \n",
    "                    [103, 119]], dtype='float32')"
   ]
  },
  {
   "cell_type": "code",
   "execution_count": 14,
   "metadata": {},
   "outputs": [
    {
     "name": "stdout",
     "output_type": "stream",
     "text": [
      "tensor([[ 73.,  67.,  43.],\n",
      "        [ 91.,  88.,  64.],\n",
      "        [ 87., 134.,  58.],\n",
      "        [102.,  43.,  37.],\n",
      "        [ 69.,  96.,  70.]])\n",
      "torch.Size([5, 2])\n"
     ]
    }
   ],
   "source": [
    "x = torch.from_numpy(inputs)\n",
    "y = torch.from_numpy(targets)\n",
    "print(x)\n",
    "print(y.shape)"
   ]
  },
  {
   "cell_type": "code",
   "execution_count": 4,
   "metadata": {},
   "outputs": [
    {
     "name": "stdout",
     "output_type": "stream",
     "text": [
      "tensor([[ 1.0272, -0.3089, -2.3446],\n",
      "        [ 0.9729, -1.1320, -2.3774]], requires_grad=True)\n",
      "tensor([1.0127, 0.0589], requires_grad=True)\n"
     ]
    }
   ],
   "source": [
    "w = torch.randn(2, 3, requires_grad = True)\n",
    "b = torch.randn(2, requires_grad = True)\n",
    "print(w)\n",
    "print(b)"
   ]
  },
  {
   "cell_type": "code",
   "execution_count": 51,
   "metadata": {},
   "outputs": [],
   "source": [
    "def model(x, w, b):\n",
    "    return x @ w.t() + b"
   ]
  },
  {
   "cell_type": "code",
   "execution_count": 52,
   "metadata": {},
   "outputs": [
    {
     "name": "stdout",
     "output_type": "stream",
     "text": [
      "tensor([[ 66.3393,  80.6528],\n",
      "        [ 71.5724,  91.6398],\n",
      "        [128.1335, 136.8674],\n",
      "        [ 71.7192,  95.4560],\n",
      "        [ 54.0700,  69.3373]], grad_fn=<AddBackward0>)\n"
     ]
    }
   ],
   "source": [
    "p = model(x, w, b)\n",
    "print(p)"
   ]
  },
  {
   "cell_type": "code",
   "execution_count": 7,
   "metadata": {},
   "outputs": [],
   "source": [
    "def mse(p, y):\n",
    "    diff = p - y\n",
    "    return torch.sum(diff*diff)/diff.numel()"
   ]
  },
  {
   "cell_type": "code",
   "execution_count": 8,
   "metadata": {},
   "outputs": [],
   "source": [
    "loss = mse(p, y)"
   ]
  },
  {
   "cell_type": "code",
   "execution_count": 9,
   "metadata": {},
   "outputs": [],
   "source": [
    "loss.backward()"
   ]
  },
  {
   "cell_type": "code",
   "execution_count": 11,
   "metadata": {},
   "outputs": [
    {
     "name": "stdout",
     "output_type": "stream",
     "text": [
      "tensor([[-11481.0488, -14220.0176,  -8626.8789],\n",
      "        [-19299.2910, -22992.4531, -13949.9023]])\n",
      "tensor([-142.4727, -236.0614])\n"
     ]
    }
   ],
   "source": [
    "print(w.grad)\n",
    "print(b.grad)"
   ]
  },
  {
   "cell_type": "code",
   "execution_count": 13,
   "metadata": {},
   "outputs": [
    {
     "data": {
      "text/plain": [
       "tensor([0., 0.])"
      ]
     },
     "execution_count": 13,
     "metadata": {},
     "output_type": "execute_result"
    }
   ],
   "source": [
    "w.grad.zero_()\n",
    "b.grad.zero_()"
   ]
  },
  {
   "cell_type": "code",
   "execution_count": 65,
   "metadata": {},
   "outputs": [],
   "source": [
    "def train(x, y, lr = 1e-5, epochs=1000):\n",
    "\n",
    "    w = torch.randn(2,3, requires_grad = True)\n",
    "    b = torch.randn(2, requires_grad = True)\n",
    "\n",
    "    for i in range(epochs):\n",
    "        p = model(x, w, b)\n",
    "        loss = mse(p, y)\n",
    "        loss.backward()\n",
    "        if (i%100 == 0):\n",
    "            print(\"loss=\", loss)\n",
    "\n",
    "        with torch.no_grad():\n",
    "            w -= w.grad * lr      \n",
    "            b -= b.grad * lr\n",
    "            w.grad.zero_()\n",
    "            b.grad.zero_()"
   ]
  },
  {
   "cell_type": "code",
   "execution_count": 66,
   "metadata": {},
   "outputs": [
    {
     "name": "stdout",
     "output_type": "stream",
     "text": [
      "loss= tensor(44698.7734, grad_fn=<DivBackward0>)\n",
      "loss= tensor(102.1238, grad_fn=<DivBackward0>)\n",
      "loss= tensor(31.5002, grad_fn=<DivBackward0>)\n",
      "loss= tensor(11.2624, grad_fn=<DivBackward0>)\n",
      "loss= tensor(5.2349, grad_fn=<DivBackward0>)\n",
      "loss= tensor(3.2543, grad_fn=<DivBackward0>)\n",
      "loss= tensor(2.4586, grad_fn=<DivBackward0>)\n",
      "loss= tensor(2.0362, grad_fn=<DivBackward0>)\n",
      "loss= tensor(1.7525, grad_fn=<DivBackward0>)\n",
      "loss= tensor(1.5359, grad_fn=<DivBackward0>)\n"
     ]
    }
   ],
   "source": [
    "train(x,y)"
   ]
  },
  {
   "cell_type": "markdown",
   "metadata": {},
   "source": [
    "# work in batches"
   ]
  },
  {
   "cell_type": "code",
   "execution_count": 90,
   "metadata": {},
   "outputs": [],
   "source": [
    "import torch.nn as nn\n",
    "from torch.utils.data import TensorDataset, DataLoader\n",
    "import torch.nn.functional as F"
   ]
  },
  {
   "cell_type": "code",
   "execution_count": 71,
   "metadata": {},
   "outputs": [],
   "source": [
    "# Input (temp, rainfall, humidity)\n",
    "inputs = np.array([[73, 67, 43], \n",
    "                   [91, 88, 64], \n",
    "                   [87, 134, 58], \n",
    "                   [102, 43, 37], \n",
    "                   [69, 96, 70], \n",
    "                   [74, 66, 43], \n",
    "                   [91, 87, 65], \n",
    "                   [88, 134, 59], \n",
    "                   [101, 44, 37], \n",
    "                   [68, 96, 71], \n",
    "                   [73, 66, 44], \n",
    "                   [92, 87, 64], \n",
    "                   [87, 135, 57], \n",
    "                   [103, 43, 36], \n",
    "                   [68, 97, 70]], \n",
    "                  dtype='float32')\n",
    "\n",
    "# Targets (apples, oranges)\n",
    "targets = np.array([[56, 70], \n",
    "                    [81, 101], \n",
    "                    [119, 133], \n",
    "                    [22, 37], \n",
    "                    [103, 119],\n",
    "                    [57, 69], \n",
    "                    [80, 102], \n",
    "                    [118, 132], \n",
    "                    [21, 38], \n",
    "                    [104, 118], \n",
    "                    [57, 69], \n",
    "                    [82, 100], \n",
    "                    [118, 134], \n",
    "                    [20, 38], \n",
    "                    [102, 120]], \n",
    "                   dtype='float32')\n",
    "\n",
    "inputs = torch.from_numpy(inputs)\n",
    "targets = torch.from_numpy(targets)"
   ]
  },
  {
   "cell_type": "code",
   "execution_count": 74,
   "metadata": {},
   "outputs": [
    {
     "data": {
      "text/plain": [
       "(tensor([[ 73.,  67.,  43.],\n",
       "         [ 91.,  88.,  64.],\n",
       "         [ 87., 134.,  58.]]),\n",
       " tensor([[ 56.,  70.],\n",
       "         [ 81., 101.],\n",
       "         [119., 133.]]))"
      ]
     },
     "execution_count": 74,
     "metadata": {},
     "output_type": "execute_result"
    }
   ],
   "source": [
    "tensor_ds = TensorDataset(inputs, targets)\n",
    "tensor_ds[0:3]"
   ]
  },
  {
   "cell_type": "code",
   "execution_count": 77,
   "metadata": {},
   "outputs": [
    {
     "data": {
      "text/plain": [
       "<torch.utils.data.dataloader.DataLoader at 0x7fbfe597d700>"
      ]
     },
     "execution_count": 77,
     "metadata": {},
     "output_type": "execute_result"
    }
   ],
   "source": [
    "batch_size = 5\n",
    "train_ds = DataLoader(tensor_ds, batch_size, shuffle=True)\n",
    "train_ds"
   ]
  },
  {
   "cell_type": "code",
   "execution_count": 79,
   "metadata": {},
   "outputs": [
    {
     "name": "stdout",
     "output_type": "stream",
     "text": [
      "tensor([[ 91.,  88.,  64.],\n",
      "        [ 73.,  66.,  44.],\n",
      "        [103.,  43.,  36.],\n",
      "        [ 92.,  87.,  64.],\n",
      "        [ 91.,  87.,  65.]]) tensor([[ 81., 101.],\n",
      "        [ 57.,  69.],\n",
      "        [ 20.,  38.],\n",
      "        [ 82., 100.],\n",
      "        [ 80., 102.]])\n"
     ]
    }
   ],
   "source": [
    "for xb, yb in train_ds:\n",
    "    print(xb, yb)\n",
    "    break"
   ]
  },
  {
   "cell_type": "code",
   "execution_count": 89,
   "metadata": {
    "scrolled": true
   },
   "outputs": [
    {
     "name": "stdout",
     "output_type": "stream",
     "text": [
      "Parameter containing:\n",
      "tensor([[ 0.5746,  0.2619,  0.1298],\n",
      "        [-0.0172,  0.4999, -0.0127]], requires_grad=True)\n",
      "Parameter containing:\n",
      "tensor([-0.3728, -0.0612], requires_grad=True)\n"
     ]
    },
    {
     "data": {
      "text/plain": [
       "[Parameter containing:\n",
       " tensor([[-0.3905,  0.3873, -0.1928],\n",
       "         [-0.4073, -0.4559, -0.4565]], requires_grad=True),\n",
       " Parameter containing:\n",
       " tensor([0.3040, 0.3563], requires_grad=True)]"
      ]
     },
     "execution_count": 89,
     "metadata": {},
     "output_type": "execute_result"
    }
   ],
   "source": [
    "mod = nn.Linear(3, 2)\n",
    "print(mod.weight)\n",
    "print(mod.bias)\n",
    "list(model.parameters())"
   ]
  },
  {
   "cell_type": "code",
   "execution_count": 98,
   "metadata": {},
   "outputs": [],
   "source": [
    "loss_func = F.mse_loss\n",
    "opt = torch.optim.SGD(model.parameters(), lr = 1e-5)"
   ]
  },
  {
   "cell_type": "markdown",
   "metadata": {},
   "source": [
    "steps:\n",
    "* define model, loss function, optimizer and hyperparams\n",
    "* for batches:\n",
    " * prediction\n",
    " * compute loss\n",
    " * compute gradients\n",
    " * update parameters\n",
    " * set gradients to zero"
   ]
  },
  {
   "cell_type": "code",
   "execution_count": 103,
   "metadata": {},
   "outputs": [],
   "source": [
    "def train(tensor_ds, num_epochs, model, loss_func, opt):\n",
    "    \n",
    "    for epoch in range(num_epochs):\n",
    "        \n",
    "        for xb, yb in tensor_ds:\n",
    "            pb = model(xb)\n",
    "            loss = loss_func(pb, yb)\n",
    "            loss.backward()\n",
    "            opt.step()\n",
    "            opt.zero_grad()\n",
    "            \n",
    "        if (epoch%10 == 0):\n",
    "            print('Epoch [{}/{}], Loss: {:.4f}'.format(epoch+1, num_epochs, loss.item()))"
   ]
  },
  {
   "cell_type": "code",
   "execution_count": 104,
   "metadata": {},
   "outputs": [
    {
     "name": "stdout",
     "output_type": "stream",
     "text": [
      "Epoch [1/50], Loss: 21.4581\n",
      "Epoch [11/50], Loss: 14.7747\n",
      "Epoch [21/50], Loss: 10.2252\n",
      "Epoch [31/50], Loss: 7.0858\n",
      "Epoch [41/50], Loss: 4.9150\n"
     ]
    }
   ],
   "source": [
    "train(tensor_ds, 50, model, loss_func, opt)"
   ]
  },
  {
   "cell_type": "code",
   "execution_count": 106,
   "metadata": {},
   "outputs": [
    {
     "name": "stdout",
     "output_type": "stream",
     "text": [
      "tensor([[ 57.0932,  70.8586],\n",
      "        [ 81.1462,  99.9358],\n",
      "        [119.8267, 135.0544],\n",
      "        [ 21.3683,  38.7052],\n",
      "        [100.0698, 116.8512],\n",
      "        [ 55.8300,  69.7626],\n",
      "        [ 80.8476,  99.8576],\n",
      "        [120.0337, 135.5619],\n",
      "        [ 22.6315,  39.8011],\n",
      "        [101.0344, 117.8690],\n",
      "        [ 56.7946,  70.7804],\n",
      "        [ 79.8831,  98.8399],\n",
      "        [120.1253, 135.1325],\n",
      "        [ 20.4037,  37.6874],\n",
      "        [101.3330, 117.9471]], grad_fn=<AddmmBackward>)\n"
     ]
    }
   ],
   "source": [
    "pred = model(inputs)\n",
    "print(pred)"
   ]
  }
 ],
 "metadata": {
  "kernelspec": {
   "display_name": "Python 3",
   "language": "python",
   "name": "python3"
  },
  "language_info": {
   "codemirror_mode": {
    "name": "ipython",
    "version": 3
   },
   "file_extension": ".py",
   "mimetype": "text/x-python",
   "name": "python",
   "nbconvert_exporter": "python",
   "pygments_lexer": "ipython3",
   "version": "3.8.5"
  }
 },
 "nbformat": 4,
 "nbformat_minor": 4
}
