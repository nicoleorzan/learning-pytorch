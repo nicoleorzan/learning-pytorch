{
 "cells": [
  {
   "cell_type": "code",
   "execution_count": 63,
   "metadata": {},
   "outputs": [],
   "source": [
    "import torch\n",
    "import torchvision\n",
    "from torchvision.datasets import MNIST, FashionMNIST\n",
    "import torchvision.transforms as transforms\n",
    "import matplotlib.pyplot as plt\n",
    "%matplotlib inline\n",
    "import numpy as np"
   ]
  },
  {
   "cell_type": "code",
   "execution_count": 64,
   "metadata": {},
   "outputs": [],
   "source": [
    "#dataset = MNIST(root=\"data/\", download=True)\n",
    "#len(dataset)"
   ]
  },
  {
   "cell_type": "code",
   "execution_count": 65,
   "metadata": {},
   "outputs": [
    {
     "name": "stdout",
     "output_type": "stream",
     "text": [
      "PIL Image: <PIL.Image.Image image mode=L size=28x28 at 0x7F5E6F2EDA30>\n",
      "Tensor Image torch.Size([1, 28, 28])\n"
     ]
    }
   ],
   "source": [
    "ds = FashionMNIST(root=\"data/\")\n",
    "img, label = ds[0]\n",
    "print(\"PIL Image:\", img)\n",
    "\n",
    "ds = FashionMNIST(root=\"data/\", transform=transforms.ToTensor())\n",
    "img, label = ds[0]\n",
    "print(\"Tensor Image\",img.shape)"
   ]
  },
  {
   "cell_type": "code",
   "execution_count": 66,
   "metadata": {},
   "outputs": [
    {
     "data": {
      "text/plain": [
       "<matplotlib.image.AxesImage at 0x7f5e6aa0cf40>"
      ]
     },
     "execution_count": 66,
     "metadata": {},
     "output_type": "execute_result"
    },
    {
     "data": {
      "image/png": "[encoded data removed]",
      "text/plain": [
       "<Figure size 432x288 with 1 Axes>"
      ]
     },
     "metadata": {
      "needs_background": "light"
     },
     "output_type": "display_data"
    }
   ],
   "source": [
    "img, label = ds[0]\n",
    "plt.imshow(img[0,:,:]) # or img.squeeze() we have to specify 0 because mtplotlib does not expect the channel idx"
   ]
  },
  {
   "cell_type": "code",
   "execution_count": 67,
   "metadata": {},
   "outputs": [],
   "source": [
    "train_ds = FashionMNIST(root=\"data/\", train=True, transform=transforms.ToTensor())\n",
    "test_ds = FashionMNIST(root=\"data/\", train=False, transform=transforms.ToTensor())"
   ]
  },
  {
   "cell_type": "markdown",
   "metadata": {},
   "source": [
    "# random train-validation split\n",
    "\n",
    "In MNIST there are 60000 trrain imgs and 10000 test ones. We just need to create the validation ds"
   ]
  },
  {
   "cell_type": "code",
   "execution_count": 68,
   "metadata": {},
   "outputs": [
    {
     "data": {
      "text/plain": [
       "(50000, 10000)"
      ]
     },
     "execution_count": 68,
     "metadata": {},
     "output_type": "execute_result"
    }
   ],
   "source": [
    "from torch.utils.data import random_split\n",
    "\n",
    "train_ds, val_ds = random_split(ds, [50000, 10000])\n",
    "len(train_ds), len(val_ds)"
   ]
  },
  {
   "cell_type": "markdown",
   "metadata": {},
   "source": [
    "# create batches"
   ]
  },
  {
   "cell_type": "code",
   "execution_count": 69,
   "metadata": {},
   "outputs": [],
   "source": [
    "from torch.utils.data.dataloader import DataLoader"
   ]
  },
  {
   "cell_type": "code",
   "execution_count": 70,
   "metadata": {},
   "outputs": [],
   "source": [
    "batch_size = 10\n",
    "\n",
    "train_loader = DataLoader(train_ds, batch_size, shuffle=True)\n",
    "val_loader = DataLoader(val_ds, batch_size)"
   ]
  },
  {
   "cell_type": "markdown",
   "metadata": {},
   "source": [
    "# logistic regression model"
   ]
  },
  {
   "cell_type": "code",
   "execution_count": 73,
   "metadata": {},
   "outputs": [],
   "source": [
    "import torch.nn as nn"
   ]
  },
  {
   "cell_type": "code",
   "execution_count": 75,
   "metadata": {},
   "outputs": [],
   "source": [
    "input_size = 28*28\n",
    "num_classes = 10\n",
    "\n",
    "model = nn.Linear(input_size, num_classes)"
   ]
  },
  {
   "cell_type": "code",
   "execution_count": 79,
   "metadata": {},
   "outputs": [
    {
     "name": "stdout",
     "output_type": "stream",
     "text": [
      "torch.Size([10, 784]) torch.Size([10])\n"
     ]
    }
   ],
   "source": [
    "print(model.weight.shape, model.bias.shape)"
   ]
  },
  {
   "cell_type": "markdown",
   "metadata": {},
   "source": [
    "We have to flatten the images because nn.inear expects a vector as input, so we flatten as 1x28x28"
   ]
  },
  {
   "cell_type": "code",
   "execution_count": 83,
   "metadata": {},
   "outputs": [],
   "source": [
    "class MnistModel(nn.Module):\n",
    "    \n",
    "    def __init__(self, input_size, num_classes):\n",
    "        super().__init__()\n",
    "        self.linear = nn.Linear(input_size, num_classes)\n",
    "        \n",
    "    def forward(self, x_batch):\n",
    "        xb = x_batch.reshape(-1,784) \n",
    "        # -1 allows to generalize the model, working with any different batch size\n",
    "        out = self.linear(xb)\n",
    "        return out"
   ]
  },
  {
   "cell_type": "code",
   "execution_count": 84,
   "metadata": {},
   "outputs": [],
   "source": [
    "model = MnistModel(input_size, num_classes)"
   ]
  },
  {
   "cell_type": "code",
   "execution_count": 90,
   "metadata": {
    "scrolled": true
   },
   "outputs": [
    {
     "name": "stdout",
     "output_type": "stream",
     "text": [
      "Parameter containing:\n",
      "tensor([[ 5.2794e-03,  8.6137e-05, -2.5085e-02,  ..., -4.6306e-03,\n",
      "          2.7690e-02,  3.0781e-02],\n",
      "        [ 2.2380e-02, -3.0241e-02,  4.5789e-03,  ...,  2.1329e-02,\n",
      "          3.3203e-03, -2.7799e-02],\n",
      "        [-7.3639e-04,  3.0775e-02,  9.3632e-03,  ..., -8.0527e-03,\n",
      "          2.7964e-02, -3.2194e-02],\n",
      "        ...,\n",
      "        [ 2.4584e-03, -1.7487e-02,  2.1221e-02,  ...,  1.7433e-02,\n",
      "         -3.2329e-02,  6.0129e-03],\n",
      "        [ 1.9399e-02, -1.5595e-02, -2.9017e-02,  ...,  2.7810e-02,\n",
      "          9.0547e-03, -3.0796e-02],\n",
      "        [-2.7791e-02,  3.0829e-02,  3.0640e-02,  ..., -1.3466e-02,\n",
      "         -3.2816e-02,  3.3246e-02]], requires_grad=True) Parameter containing:\n",
      "tensor([ 0.0306, -0.0206,  0.0217,  0.0319, -0.0275, -0.0227, -0.0011,  0.0151,\n",
      "        -0.0042, -0.0355], requires_grad=True)\n"
     ]
    },
    {
     "data": {
      "text/plain": [
       "[Parameter containing:\n",
       " tensor([[ 5.2794e-03,  8.6137e-05, -2.5085e-02,  ..., -4.6306e-03,\n",
       "           2.7690e-02,  3.0781e-02],\n",
       "         [ 2.2380e-02, -3.0241e-02,  4.5789e-03,  ...,  2.1329e-02,\n",
       "           3.3203e-03, -2.7799e-02],\n",
       "         [-7.3639e-04,  3.0775e-02,  9.3632e-03,  ..., -8.0527e-03,\n",
       "           2.7964e-02, -3.2194e-02],\n",
       "         ...,\n",
       "         [ 2.4584e-03, -1.7487e-02,  2.1221e-02,  ...,  1.7433e-02,\n",
       "          -3.2329e-02,  6.0129e-03],\n",
       "         [ 1.9399e-02, -1.5595e-02, -2.9017e-02,  ...,  2.7810e-02,\n",
       "           9.0547e-03, -3.0796e-02],\n",
       "         [-2.7791e-02,  3.0829e-02,  3.0640e-02,  ..., -1.3466e-02,\n",
       "          -3.2816e-02,  3.3246e-02]], requires_grad=True),\n",
       " Parameter containing:\n",
       " tensor([ 0.0306, -0.0206,  0.0217,  0.0319, -0.0275, -0.0227, -0.0011,  0.0151,\n",
       "         -0.0042, -0.0355], requires_grad=True)]"
      ]
     },
     "execution_count": 90,
     "metadata": {},
     "output_type": "execute_result"
    }
   ],
   "source": [
    "print(model.linear.weight, model.linear.bias)\n",
    "list(model.parameters())"
   ]
  },
  {
   "cell_type": "code",
   "execution_count": 94,
   "metadata": {
    "scrolled": true
   },
   "outputs": [
    {
     "name": "stdout",
     "output_type": "stream",
     "text": [
      "torch.Size([100, 10])\n",
      "tensor([-0.1651, -0.3735,  0.0430, -0.2147, -0.2976, -0.0973,  0.4743, -0.2808,\n",
      "        -0.0032,  0.2612], grad_fn=<SelectBackward>)\n"
     ]
    }
   ],
   "source": [
    "for imgs, labels in train_loader:\n",
    "    out = model(imgs)\n",
    "    print(out.shape)\n",
    "    print(out[0])\n",
    "    break"
   ]
  },
  {
   "cell_type": "code",
   "execution_count": 112,
   "metadata": {
    "scrolled": true
   },
   "outputs": [
    {
     "data": {
      "text/plain": [
       "tensor([6, 6, 2, 8, 5, 6, 6, 6, 6, 2, 3, 2, 2, 6, 6, 6, 1, 6, 5, 2, 2, 6, 6, 6,\n",
       "        6, 6, 6, 2, 6, 6, 6, 0, 3, 6, 6, 2, 6, 5, 6, 6, 8, 8, 6, 1, 8, 2, 2, 6,\n",
       "        6, 6, 6, 2, 6, 2, 6, 1, 8, 6, 6, 6, 6, 6, 5, 6, 6, 6, 6, 6, 8, 2, 8, 8,\n",
       "        2, 2, 2, 2, 6, 2, 6, 2, 2, 2, 2, 2, 6, 6, 2, 2, 6, 6, 6, 3, 2, 6, 2, 2,\n",
       "        2, 2, 2, 6])"
      ]
     },
     "execution_count": 112,
     "metadata": {},
     "output_type": "execute_result"
    }
   ],
   "source": [
    "import torch.nn.functional as F\n",
    "probs = F.softmax(out, dim=1)\n",
    "maxs_probs, preds = torch.max(probs, dim=1)\n",
    "preds"
   ]
  },
  {
   "cell_type": "code",
   "execution_count": 130,
   "metadata": {},
   "outputs": [
    {
     "data": {
      "text/plain": [
       "tensor(0.0900)"
      ]
     },
     "execution_count": 130,
     "metadata": {},
     "output_type": "execute_result"
    }
   ],
   "source": [
    "#accuracy\n",
    "torch.sum(labels == preds)/len(labels)"
   ]
  },
  {
   "cell_type": "markdown",
   "metadata": {},
   "source": [
    "we will use cross entropy as metric. To ge the overall loss we ake an average of the losses"
   ]
  },
  {
   "cell_type": "code",
   "execution_count": 128,
   "metadata": {},
   "outputs": [
    {
     "name": "stdout",
     "output_type": "stream",
     "text": [
      "0.13489543\n"
     ]
    }
   ],
   "source": [
    "loss = F.cross_entropy\n",
    "loss(out, preds)\n",
    "print(np.exp(-loss(out, preds).detach().numpy() )) \n",
    "# the predicted probability of the correct label, on average. Opposite of log"
   ]
  },
  {
   "cell_type": "markdown",
   "metadata": {},
   "source": [
    "# optimizer"
   ]
  },
  {
   "cell_type": "code",
   "execution_count": 145,
   "metadata": {},
   "outputs": [],
   "source": [
    "lr = 0.001\n",
    "optimizer = torch.optim.SGD(model.parameters(), lr=lr)"
   ]
  },
  {
   "cell_type": "code",
   "execution_count": 184,
   "metadata": {},
   "outputs": [],
   "source": [
    "def loss_batch(xb, yb, model, loss_fn, metric=None, opt = None):\n",
    "    \n",
    "    out = model(xb)\n",
    "    loss = loss_fn(out, yb)\n",
    "    \n",
    "    if opt is not None:\n",
    "        loss.backward()\n",
    "        opt.step()\n",
    "        opt.zero_grad()\n",
    "    \n",
    "    metric_res = None\n",
    "    if metric is not None:\n",
    "        metric_res = metric(out, yb)\n",
    "        \n",
    "    return loss.item(), len(xb), metric_res\n"
   ]
  },
  {
   "cell_type": "code",
   "execution_count": 185,
   "metadata": {},
   "outputs": [],
   "source": [
    "def evaluate(model, loss_fn, valid_dl, metric=None):\n",
    "    \n",
    "    with torch.no_grad():\n",
    "        results = [loss_batch(xb, yb, model, loss_fn, metric=metric, opt=None) \n",
    "                   for xb, yb in valid_dl]\n",
    "        losses, nums, metrics = zip(*results)\n",
    "        total = np.sum(nums)\n",
    "        avg_losses = np.sum(np.multiply(losses, nums)) / total\n",
    "        \n",
    "        avg_metric = None\n",
    "        if metric is not None:\n",
    "            avg_metric = np.sum(np.multiply(metrics, nums)) / total\n",
    "        \n",
    "        return avg_losses, total, avg_metric"
   ]
  },
  {
   "cell_type": "code",
   "execution_count": 186,
   "metadata": {},
   "outputs": [],
   "source": [
    "def accuracy(out, labels):\n",
    "    _, pred = torch.max(out, dim=1)\n",
    "    accuracy = torch.sum(pred == labels).item()/len(labels)\n",
    "    return accuracy"
   ]
  },
  {
   "cell_type": "code",
   "execution_count": 193,
   "metadata": {},
   "outputs": [
    {
     "name": "stdout",
     "output_type": "stream",
     "text": [
      "2.3350609064102175 10000 0.149\n"
     ]
    }
   ],
   "source": [
    "model = MnistModel(input_size, num_classes)\n",
    "loss_fn = F.cross_entropy\n",
    "valid_dl = val_loader\n",
    "train_dl = train_loader\n",
    "\n",
    "val_loss, total, val_acc = evaluate(model, loss_fn, valid_dl, metric=accuracy)\n",
    "print(val_loss, total, val_acc)"
   ]
  },
  {
   "cell_type": "code",
   "execution_count": 218,
   "metadata": {},
   "outputs": [],
   "source": [
    "def fit(epochs, model, loss_fn, opt, train_dl, valid_dl, metric=None):\n",
    "    \n",
    "    for epoch in range(epochs):\n",
    "        \n",
    "        for xb, yb in train_dl:\n",
    "            # train step\n",
    "            train_loss, _, _ = loss_batch(xb, yb, model, loss_fn, metric, opt)\n",
    "            # evaluation step\n",
    "            avg_eval_loss, total, avg_metric = evaluate(model, loss_fn, valid_dl, metric)\n",
    "            \n",
    "        if metric is not None:\n",
    "            print(\"Epoch=\", epoch, \", accuracy res:\", avg_metric, \", train loss=\", train_loss, \", evaluation loss=\", avg_metric)\n",
    "        else:\n",
    "            print(\"Epoch=\", epoch, \", train loss=\", train_loss, \", evaluation loss=\", avg_metric)\n",
    "            \n",
    "            "
   ]
  },
  {
   "cell_type": "code",
   "execution_count": 219,
   "metadata": {},
   "outputs": [],
   "source": [
    "train_ds = FashionMNIST(root=\"data/\", train=True, transform=transforms.ToTensor())\n",
    "test_ds = FashionMNIST(root=\"data/\", train=False, transform=transforms.ToTensor())\n",
    "\n",
    "batch_size = 100\n",
    "\n",
    "train_loader = DataLoader(train_ds, batch_size, shuffle=True)\n",
    "val_loader = DataLoader(val_ds, batch_size)\n",
    "\n",
    "epochs = 5\n",
    "model = MnistModel(input_size, num_classes)\n",
    "loss_fn = F.cross_entropy\n",
    "opt = torch.optim.SGD(model.parameters(), lr=lr)\n",
    "valid_dl = val_loader\n",
    "train_dl = train_loader\n",
    "\n",
    "#fit(epochs, model, loss_fn, opt, train_dl, valid_dl, accuracy)"
   ]
  },
  {
   "cell_type": "markdown",
   "metadata": {},
   "source": [
    "# test"
   ]
  },
  {
   "cell_type": "code",
   "execution_count": 220,
   "metadata": {},
   "outputs": [],
   "source": [
    "test_dataset = FashionMNIST(root='data/', \n",
    "                     train=False,\n",
    "                     transform=transforms.ToTensor())"
   ]
  },
  {
   "cell_type": "code",
   "execution_count": 221,
   "metadata": {},
   "outputs": [],
   "source": [
    "def predict_image(img, model):\n",
    "    #define img as a batch\n",
    "    xb = img.unsqueeze(0)\n",
    "    print(xb.shape)\n",
    "    out = model(xb)\n",
    "    _, preds = torch.max(out, dim=1)\n",
    "    return preds[0].item()"
   ]
  },
  {
   "cell_type": "code",
   "execution_count": 222,
   "metadata": {
    "scrolled": true
   },
   "outputs": [
    {
     "name": "stdout",
     "output_type": "stream",
     "text": [
      "torch.Size([1, 1, 28, 28])\n",
      "label= 0 Predicted= 4\n"
     ]
    },
    {
     "data": {
      "image/png": "[encoded data removed]",
      "text/plain": [
       "<Figure size 432x288 with 1 Axes>"
      ]
     },
     "metadata": {
      "needs_background": "light"
     },
     "output_type": "display_data"
    }
   ],
   "source": [
    "img, label = test_dataset[284]\n",
    "plt.imshow(img[0])\n",
    "print(\"label=\", label, \"Predicted=\", predict_image(img, model))"
   ]
  },
  {
   "cell_type": "markdown",
   "metadata": {},
   "source": [
    "# save and load"
   ]
  },
  {
   "cell_type": "code",
   "execution_count": 224,
   "metadata": {},
   "outputs": [],
   "source": [
    "torch.save(model.state_dict(), 'mnist-logistic.pth')"
   ]
  },
  {
   "cell_type": "code",
   "execution_count": 225,
   "metadata": {
    "scrolled": true
   },
   "outputs": [
    {
     "data": {
      "text/plain": [
       "OrderedDict([('linear.weight',\n",
       "              tensor([[ 0.0004,  0.0123, -0.0127,  ..., -0.0247,  0.0216, -0.0147],\n",
       "                      [ 0.0122, -0.0323,  0.0295,  ..., -0.0084, -0.0263, -0.0296],\n",
       "                      [ 0.0041,  0.0302,  0.0094,  ...,  0.0249,  0.0173, -0.0206],\n",
       "                      ...,\n",
       "                      [ 0.0167, -0.0113, -0.0267,  ..., -0.0226, -0.0150, -0.0221],\n",
       "                      [-0.0220, -0.0332,  0.0005,  ...,  0.0088, -0.0021, -0.0335],\n",
       "                      [ 0.0018, -0.0237, -0.0351,  ..., -0.0280,  0.0065,  0.0142]])),\n",
       "             ('linear.bias',\n",
       "              tensor([-0.0311, -0.0183,  0.0263, -0.0357, -0.0266, -0.0345, -0.0041, -0.0106,\n",
       "                       0.0043,  0.0186]))])"
      ]
     },
     "execution_count": 225,
     "metadata": {},
     "output_type": "execute_result"
    }
   ],
   "source": [
    "model.state_dict()"
   ]
  },
  {
   "cell_type": "code",
   "execution_count": 227,
   "metadata": {},
   "outputs": [
    {
     "data": {
      "text/plain": [
       "OrderedDict([('linear.weight',\n",
       "              tensor([[ 0.0004,  0.0123, -0.0127,  ..., -0.0247,  0.0216, -0.0147],\n",
       "                      [ 0.0122, -0.0323,  0.0295,  ..., -0.0084, -0.0263, -0.0296],\n",
       "                      [ 0.0041,  0.0302,  0.0094,  ...,  0.0249,  0.0173, -0.0206],\n",
       "                      ...,\n",
       "                      [ 0.0167, -0.0113, -0.0267,  ..., -0.0226, -0.0150, -0.0221],\n",
       "                      [-0.0220, -0.0332,  0.0005,  ...,  0.0088, -0.0021, -0.0335],\n",
       "                      [ 0.0018, -0.0237, -0.0351,  ..., -0.0280,  0.0065,  0.0142]])),\n",
       "             ('linear.bias',\n",
       "              tensor([-0.0311, -0.0183,  0.0263, -0.0357, -0.0266, -0.0345, -0.0041, -0.0106,\n",
       "                       0.0043,  0.0186]))])"
      ]
     },
     "execution_count": 227,
     "metadata": {},
     "output_type": "execute_result"
    }
   ],
   "source": [
    "# load\n",
    "model2 = MnistModel(input_size, num_classes)\n",
    "model2.load_state_dict(torch.load('mnist-logistic.pth'))\n",
    "model2.state_dict()"
   ]
  }
 ],
 "metadata": {
  "kernelspec": {
   "display_name": "Python 3",
   "language": "python",
   "name": "python3"
  },
  "language_info": {
   "codemirror_mode": {
    "name": "ipython",
    "version": 3
   },
   "file_extension": ".py",
   "mimetype": "text/x-python",
   "name": "python",
   "nbconvert_exporter": "python",
   "pygments_lexer": "ipython3",
   "version": "3.8.5"
  }
 },
 "nbformat": 4,
 "nbformat_minor": 4
}
